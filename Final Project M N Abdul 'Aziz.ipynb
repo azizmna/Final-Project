{
 "cells": [
  {
   "cell_type": "markdown",
   "metadata": {},
   "source": [
    "# Final Project"
   ]
  },
  {
   "cell_type": "markdown",
   "metadata": {},
   "source": [
    "### Oleh : Muhammad Nur Abdul 'Aziz"
   ]
  },
  {
   "cell_type": "markdown",
   "metadata": {},
   "source": [
    "Project ini bertujuan untuk mengetahui variabel apa saja yang bisa digunakan untuk dibuat model regresi dan membuat kluster dari data tersebut. Pertanyaan yang harus dijawab adalah:\n",
    "1. Variabel apa saja yang saling berkorelasi?\n",
    "2. Bagaimana model regresi dan nilai keakuratannya?\n",
    "3. Bagaimana kluster untuk data tersebut?"
   ]
  },
  {
   "cell_type": "markdown",
   "metadata": {},
   "source": [
    "Pada final project ini digunakan data kapasitas terpasang, tenaga listrik yang dibangkitkan, dan listrik yang didistribusikan menurut provinsi di Indonesia tahun 2014-2015 yang diambil dari https://www.bps.go.id/statictable/2015/09/28/1858/kapasitas-terpasang-tenaga-listrik-yang-dibangkitkan-dan-listrik-yang-didistribusikan-menurut-provinsi-2014-2015.html. Data yang digunakan untuk melakukan analisis berikut hanya data tahun 2015. Berikut ditampilkan data kapasitas terpasang, tenaga listrik yang dibangkitkan, dan listrik yang didistribusikan menurut provinsi di Indonesia tahun 2015."
   ]
  },
  {
   "cell_type": "code",
   "execution_count": 2,
   "metadata": {},
   "outputs": [
    {
     "data": {
      "text/html": [
       "<div>\n",
       "<style scoped>\n",
       "    .dataframe tbody tr th:only-of-type {\n",
       "        vertical-align: middle;\n",
       "    }\n",
       "\n",
       "    .dataframe tbody tr th {\n",
       "        vertical-align: top;\n",
       "    }\n",
       "\n",
       "    .dataframe thead th {\n",
       "        text-align: right;\n",
       "    }\n",
       "</style>\n",
       "<table border=\"1\" class=\"dataframe\">\n",
       "  <thead>\n",
       "    <tr style=\"text-align: right;\">\n",
       "      <th></th>\n",
       "      <th>Provinsi</th>\n",
       "      <th>Kapasitas Terpasang (MW)</th>\n",
       "      <th>Tenaga Listrik yang Dibangkitkan (GWh)</th>\n",
       "      <th>Listrik yang Didistribusikan (GWh)</th>\n",
       "    </tr>\n",
       "  </thead>\n",
       "  <tbody>\n",
       "    <tr>\n",
       "      <th>0</th>\n",
       "      <td>Aceh</td>\n",
       "      <td>232.10</td>\n",
       "      <td>618.26</td>\n",
       "      <td>2119.00</td>\n",
       "    </tr>\n",
       "    <tr>\n",
       "      <th>1</th>\n",
       "      <td>Sumatera Utara</td>\n",
       "      <td>4241.54</td>\n",
       "      <td>18876.59</td>\n",
       "      <td>8703.67</td>\n",
       "    </tr>\n",
       "    <tr>\n",
       "      <th>2</th>\n",
       "      <td>Sumatera Barat</td>\n",
       "      <td>81.15</td>\n",
       "      <td>182.69</td>\n",
       "      <td>3063.28</td>\n",
       "    </tr>\n",
       "    <tr>\n",
       "      <th>3</th>\n",
       "      <td>Riau</td>\n",
       "      <td>173.80</td>\n",
       "      <td>969.73</td>\n",
       "      <td>3586.45</td>\n",
       "    </tr>\n",
       "    <tr>\n",
       "      <th>4</th>\n",
       "      <td>Jambi</td>\n",
       "      <td>60.37</td>\n",
       "      <td>134.31</td>\n",
       "      <td>1083.49</td>\n",
       "    </tr>\n",
       "    <tr>\n",
       "      <th>5</th>\n",
       "      <td>Sumatera Selatan</td>\n",
       "      <td>3146.21</td>\n",
       "      <td>16431.48</td>\n",
       "      <td>4783.02</td>\n",
       "    </tr>\n",
       "    <tr>\n",
       "      <th>6</th>\n",
       "      <td>Bengkulu</td>\n",
       "      <td>25.89</td>\n",
       "      <td>82.87</td>\n",
       "      <td>785.43</td>\n",
       "    </tr>\n",
       "    <tr>\n",
       "      <th>7</th>\n",
       "      <td>Lampung</td>\n",
       "      <td>121.12</td>\n",
       "      <td>40.55</td>\n",
       "      <td>3571.00</td>\n",
       "    </tr>\n",
       "    <tr>\n",
       "      <th>8</th>\n",
       "      <td>Kepulauan Bangka Belitung</td>\n",
       "      <td>314.56</td>\n",
       "      <td>939.41</td>\n",
       "      <td>861.52</td>\n",
       "    </tr>\n",
       "    <tr>\n",
       "      <th>9</th>\n",
       "      <td>Kepulauan Riau</td>\n",
       "      <td>736.80</td>\n",
       "      <td>2830.82</td>\n",
       "      <td>2694.79</td>\n",
       "    </tr>\n",
       "    <tr>\n",
       "      <th>10</th>\n",
       "      <td>DKI Jakarta</td>\n",
       "      <td>1359.54</td>\n",
       "      <td>3408.60</td>\n",
       "      <td>41328.60</td>\n",
       "    </tr>\n",
       "    <tr>\n",
       "      <th>11</th>\n",
       "      <td>Jawa Barat</td>\n",
       "      <td>4077.90</td>\n",
       "      <td>20617.92</td>\n",
       "      <td>44071.43</td>\n",
       "    </tr>\n",
       "    <tr>\n",
       "      <th>12</th>\n",
       "      <td>Jawa Tengah</td>\n",
       "      <td>5155.26</td>\n",
       "      <td>25690.27</td>\n",
       "      <td>20408.19</td>\n",
       "    </tr>\n",
       "    <tr>\n",
       "      <th>13</th>\n",
       "      <td>D.I Yogyakarta</td>\n",
       "      <td>0.18</td>\n",
       "      <td>0.00</td>\n",
       "      <td>2484.16</td>\n",
       "    </tr>\n",
       "    <tr>\n",
       "      <th>14</th>\n",
       "      <td>Jawa Timur</td>\n",
       "      <td>14669.40</td>\n",
       "      <td>52624.96</td>\n",
       "      <td>30824.81</td>\n",
       "    </tr>\n",
       "    <tr>\n",
       "      <th>15</th>\n",
       "      <td>Banten</td>\n",
       "      <td>12873.34</td>\n",
       "      <td>70279.07</td>\n",
       "      <td>8575.10</td>\n",
       "    </tr>\n",
       "    <tr>\n",
       "      <th>16</th>\n",
       "      <td>Bali</td>\n",
       "      <td>1017.19</td>\n",
       "      <td>1919.80</td>\n",
       "      <td>4594.18</td>\n",
       "    </tr>\n",
       "    <tr>\n",
       "      <th>17</th>\n",
       "      <td>Nusa Tenggara Barat</td>\n",
       "      <td>393.80</td>\n",
       "      <td>1558.03</td>\n",
       "      <td>1402.30</td>\n",
       "    </tr>\n",
       "    <tr>\n",
       "      <th>18</th>\n",
       "      <td>Nusa Tenggara Timur</td>\n",
       "      <td>297.25</td>\n",
       "      <td>820.20</td>\n",
       "      <td>749.76</td>\n",
       "    </tr>\n",
       "    <tr>\n",
       "      <th>19</th>\n",
       "      <td>Kalimantan Barat</td>\n",
       "      <td>653.49</td>\n",
       "      <td>2340.32</td>\n",
       "      <td>1989.63</td>\n",
       "    </tr>\n",
       "    <tr>\n",
       "      <th>20</th>\n",
       "      <td>Kalimantan Tengah</td>\n",
       "      <td>71.65</td>\n",
       "      <td>556.67</td>\n",
       "      <td>1048.64</td>\n",
       "    </tr>\n",
       "    <tr>\n",
       "      <th>21</th>\n",
       "      <td>Kalimantan Selatan</td>\n",
       "      <td>1671.13</td>\n",
       "      <td>3314.14</td>\n",
       "      <td>2187.64</td>\n",
       "    </tr>\n",
       "    <tr>\n",
       "      <th>22</th>\n",
       "      <td>Kalimantan Timur</td>\n",
       "      <td>1053.03</td>\n",
       "      <td>2450.57</td>\n",
       "      <td>3007.30</td>\n",
       "    </tr>\n",
       "    <tr>\n",
       "      <th>23</th>\n",
       "      <td>Kalimantan Utara</td>\n",
       "      <td>99.82</td>\n",
       "      <td>70.48</td>\n",
       "      <td>206.50</td>\n",
       "    </tr>\n",
       "    <tr>\n",
       "      <th>24</th>\n",
       "      <td>Sulawesi Utara</td>\n",
       "      <td>358.03</td>\n",
       "      <td>1959.76</td>\n",
       "      <td>1302.58</td>\n",
       "    </tr>\n",
       "    <tr>\n",
       "      <th>25</th>\n",
       "      <td>Sulawesi Tengah</td>\n",
       "      <td>421.12</td>\n",
       "      <td>1580.22</td>\n",
       "      <td>948.78</td>\n",
       "    </tr>\n",
       "    <tr>\n",
       "      <th>26</th>\n",
       "      <td>Sulawesi Selatan</td>\n",
       "      <td>1232.35</td>\n",
       "      <td>5978.87</td>\n",
       "      <td>4479.46</td>\n",
       "    </tr>\n",
       "    <tr>\n",
       "      <th>27</th>\n",
       "      <td>Sulawesi Tenggara</td>\n",
       "      <td>127.47</td>\n",
       "      <td>846.29</td>\n",
       "      <td>703.59</td>\n",
       "    </tr>\n",
       "    <tr>\n",
       "      <th>28</th>\n",
       "      <td>Gorontalo</td>\n",
       "      <td>31.49</td>\n",
       "      <td>291.12</td>\n",
       "      <td>398.82</td>\n",
       "    </tr>\n",
       "    <tr>\n",
       "      <th>29</th>\n",
       "      <td>Sulawesi Barat</td>\n",
       "      <td>3.22</td>\n",
       "      <td>18.90</td>\n",
       "      <td>258.70</td>\n",
       "    </tr>\n",
       "    <tr>\n",
       "      <th>30</th>\n",
       "      <td>Maluku</td>\n",
       "      <td>236.76</td>\n",
       "      <td>781.38</td>\n",
       "      <td>509.51</td>\n",
       "    </tr>\n",
       "    <tr>\n",
       "      <th>31</th>\n",
       "      <td>Maluku Utara</td>\n",
       "      <td>73.81</td>\n",
       "      <td>170.35</td>\n",
       "      <td>329.44</td>\n",
       "    </tr>\n",
       "    <tr>\n",
       "      <th>32</th>\n",
       "      <td>Papua Barat</td>\n",
       "      <td>112.76</td>\n",
       "      <td>447.95</td>\n",
       "      <td>455.58</td>\n",
       "    </tr>\n",
       "    <tr>\n",
       "      <th>33</th>\n",
       "      <td>Papua</td>\n",
       "      <td>271.14</td>\n",
       "      <td>917.48</td>\n",
       "      <td>763.32</td>\n",
       "    </tr>\n",
       "  </tbody>\n",
       "</table>\n",
       "</div>"
      ],
      "text/plain": [
       "                     Provinsi  Kapasitas Terpasang (MW)  \\\n",
       "0                        Aceh                    232.10   \n",
       "1              Sumatera Utara                   4241.54   \n",
       "2              Sumatera Barat                     81.15   \n",
       "3                        Riau                    173.80   \n",
       "4                       Jambi                     60.37   \n",
       "5            Sumatera Selatan                   3146.21   \n",
       "6                    Bengkulu                     25.89   \n",
       "7                     Lampung                    121.12   \n",
       "8   Kepulauan Bangka Belitung                    314.56   \n",
       "9              Kepulauan Riau                    736.80   \n",
       "10                DKI Jakarta                   1359.54   \n",
       "11                 Jawa Barat                   4077.90   \n",
       "12                Jawa Tengah                   5155.26   \n",
       "13             D.I Yogyakarta                      0.18   \n",
       "14                 Jawa Timur                  14669.40   \n",
       "15                     Banten                  12873.34   \n",
       "16                       Bali                   1017.19   \n",
       "17        Nusa Tenggara Barat                    393.80   \n",
       "18        Nusa Tenggara Timur                    297.25   \n",
       "19           Kalimantan Barat                    653.49   \n",
       "20          Kalimantan Tengah                     71.65   \n",
       "21         Kalimantan Selatan                   1671.13   \n",
       "22           Kalimantan Timur                   1053.03   \n",
       "23           Kalimantan Utara                     99.82   \n",
       "24             Sulawesi Utara                    358.03   \n",
       "25            Sulawesi Tengah                    421.12   \n",
       "26           Sulawesi Selatan                   1232.35   \n",
       "27          Sulawesi Tenggara                    127.47   \n",
       "28                  Gorontalo                     31.49   \n",
       "29             Sulawesi Barat                      3.22   \n",
       "30                     Maluku                    236.76   \n",
       "31               Maluku Utara                     73.81   \n",
       "32                Papua Barat                    112.76   \n",
       "33                      Papua                    271.14   \n",
       "\n",
       "    Tenaga Listrik yang Dibangkitkan (GWh)  Listrik yang Didistribusikan (GWh)  \n",
       "0                                   618.26                             2119.00  \n",
       "1                                 18876.59                             8703.67  \n",
       "2                                   182.69                             3063.28  \n",
       "3                                   969.73                             3586.45  \n",
       "4                                   134.31                             1083.49  \n",
       "5                                 16431.48                             4783.02  \n",
       "6                                    82.87                              785.43  \n",
       "7                                    40.55                             3571.00  \n",
       "8                                   939.41                              861.52  \n",
       "9                                  2830.82                             2694.79  \n",
       "10                                 3408.60                            41328.60  \n",
       "11                                20617.92                            44071.43  \n",
       "12                                25690.27                            20408.19  \n",
       "13                                    0.00                             2484.16  \n",
       "14                                52624.96                            30824.81  \n",
       "15                                70279.07                             8575.10  \n",
       "16                                 1919.80                             4594.18  \n",
       "17                                 1558.03                             1402.30  \n",
       "18                                  820.20                              749.76  \n",
       "19                                 2340.32                             1989.63  \n",
       "20                                  556.67                             1048.64  \n",
       "21                                 3314.14                             2187.64  \n",
       "22                                 2450.57                             3007.30  \n",
       "23                                   70.48                              206.50  \n",
       "24                                 1959.76                             1302.58  \n",
       "25                                 1580.22                              948.78  \n",
       "26                                 5978.87                             4479.46  \n",
       "27                                  846.29                              703.59  \n",
       "28                                  291.12                              398.82  \n",
       "29                                   18.90                              258.70  \n",
       "30                                  781.38                              509.51  \n",
       "31                                  170.35                              329.44  \n",
       "32                                  447.95                              455.58  \n",
       "33                                  917.48                              763.32  "
      ]
     },
     "execution_count": 2,
     "metadata": {},
     "output_type": "execute_result"
    }
   ],
   "source": [
    "import pandas as pd\n",
    "data = pd.read_excel('D:\\\\listrik.xlsx')\n",
    "data"
   ]
  },
  {
   "cell_type": "markdown",
   "metadata": {},
   "source": [
    "### 1. Membuat Scatter Plot dari Dataset"
   ]
  },
  {
   "cell_type": "code",
   "execution_count": 5,
   "metadata": {},
   "outputs": [
    {
     "data": {
      "image/png": "[encoded data removed]",
      "text/plain": [
       "<Figure size 432x288 with 1 Axes>"
      ]
     },
     "metadata": {
      "needs_background": "light"
     },
     "output_type": "display_data"
    }
   ],
   "source": [
    "import matplotlib.pyplot as plt\n",
    "plt.scatter(data['Kapasitas Terpasang (MW)'], data['Listrik yang Didistribusikan (GWh)'])\n",
    "plt.xlabel('Kapasitas Terpasang (MW)')\n",
    "plt.ylabel('Listrik yang Didistribusikan (GWh)')\n",
    "plt.show()"
   ]
  },
  {
   "cell_type": "markdown",
   "metadata": {},
   "source": [
    "Gambar di atas adalah scatter plot dari Kapasitas Terpasang (MW) dan Listrik yang Didistribusikan (GWh)."
   ]
  },
  {
   "cell_type": "code",
   "execution_count": 7,
   "metadata": {},
   "outputs": [
    {
     "data": {
      "image/png": "[encoded data removed]",
      "text/plain": [
       "<Figure size 432x288 with 1 Axes>"
      ]
     },
     "metadata": {
      "needs_background": "light"
     },
     "output_type": "display_data"
    }
   ],
   "source": [
    "import matplotlib.pyplot as plt\n",
    "plt.scatter(data['Kapasitas Terpasang (MW)'], data['Tenaga Listrik yang Dibangkitkan (GWh)'])\n",
    "plt.xlabel('Kapasitas Terpasang (MW)')\n",
    "plt.ylabel('Tenaga Listrik yang Dibangkitkan (GWh)')\n",
    "plt.show()"
   ]
  },
  {
   "cell_type": "markdown",
   "metadata": {},
   "source": [
    "Gambar di atas adalah scatter plot dari Kapasitas Terpasang (MW) dan Tenaga Listrik yang Dibangkitkan (GWh)."
   ]
  },
  {
   "cell_type": "code",
   "execution_count": 9,
   "metadata": {},
   "outputs": [
    {
     "data": {
      "image/png": "[encoded data removed]",
      "text/plain": [
       "<Figure size 432x288 with 1 Axes>"
      ]
     },
     "metadata": {
      "needs_background": "light"
     },
     "output_type": "display_data"
    }
   ],
   "source": [
    "import matplotlib.pyplot as plt\n",
    "plt.scatter(data['Tenaga Listrik yang Dibangkitkan (GWh)'], data['Listrik yang Didistribusikan (GWh)'])\n",
    "plt.xlabel('Tenaga Listrik yang Dibangkitkan (GWh)')\n",
    "plt.ylabel('Listrik yang Didistribusikan (GWh)')\n",
    "plt.show()"
   ]
  },
  {
   "cell_type": "markdown",
   "metadata": {},
   "source": [
    "Gambar di atas adalah scatter plot dari Tenaga Listrik yang Dibangkitkan (GWh) dan Listrik yang Didistribusikan (GWh)."
   ]
  },
  {
   "cell_type": "code",
   "execution_count": 12,
   "metadata": {},
   "outputs": [
    {
     "data": {
      "image/png": "[encoded data removed]",
      "text/plain": [
       "<Figure size 864x864 with 9 Axes>"
      ]
     },
     "metadata": {
      "needs_background": "light"
     },
     "output_type": "display_data"
    }
   ],
   "source": [
    "import pandas as pd\n",
    "from matplotlib import cm\n",
    "feature_names = ['Kapasitas Terpasang (MW)', 'Tenaga Listrik yang Dibangkitkan (GWh)', 'Listrik yang Didistribusikan (GWh)']\n",
    "X = data[feature_names]\n",
    "cmap = cm.get_cmap('gnuplot')\n",
    "scatter = pd.plotting.scatter_matrix(X, marker = 'bo', s=40, hist_kwds={'bins':15}, figsize=(12,12), cmap = cmap)\n",
    "plt.suptitle('Scatter-matrix for each input variable')\n",
    "plt.savefig('data_scatter_matrix')"
   ]
  },
  {
   "cell_type": "markdown",
   "metadata": {},
   "source": [
    "Gambar di atas adalah matrix scatter plot dari semua variabel."
   ]
  },
  {
   "cell_type": "markdown",
   "metadata": {},
   "source": [
    "### 2. Memilih 2 Variabel yang Diduga Memiliki Korelasi"
   ]
  },
  {
   "cell_type": "markdown",
   "metadata": {},
   "source": [
    "Berdasarkan hasil pada no. 1, dapat diduga 2 variabel yang memiliki korelasi adalah Kapasitas Terpasang (MW) dan Tenaga Listrik yang Dibangkitkan (GWh). Dilihat dari Scatter Plot-nya membentuk pola menyerupai garis lurus/ linear."
   ]
  },
  {
   "cell_type": "code",
   "execution_count": 15,
   "metadata": {},
   "outputs": [
    {
     "data": {
      "text/html": [
       "<div>\n",
       "<style scoped>\n",
       "    .dataframe tbody tr th:only-of-type {\n",
       "        vertical-align: middle;\n",
       "    }\n",
       "\n",
       "    .dataframe tbody tr th {\n",
       "        vertical-align: top;\n",
       "    }\n",
       "\n",
       "    .dataframe thead th {\n",
       "        text-align: right;\n",
       "    }\n",
       "</style>\n",
       "<table border=\"1\" class=\"dataframe\">\n",
       "  <thead>\n",
       "    <tr style=\"text-align: right;\">\n",
       "      <th></th>\n",
       "      <th>Kapasitas Terpasang (MW)</th>\n",
       "      <th>Tenaga Listrik yang Dibangkitkan (GWh)</th>\n",
       "    </tr>\n",
       "  </thead>\n",
       "  <tbody>\n",
       "    <tr>\n",
       "      <th>0</th>\n",
       "      <td>232.10</td>\n",
       "      <td>618.26</td>\n",
       "    </tr>\n",
       "    <tr>\n",
       "      <th>1</th>\n",
       "      <td>4241.54</td>\n",
       "      <td>18876.59</td>\n",
       "    </tr>\n",
       "    <tr>\n",
       "      <th>2</th>\n",
       "      <td>81.15</td>\n",
       "      <td>182.69</td>\n",
       "    </tr>\n",
       "    <tr>\n",
       "      <th>3</th>\n",
       "      <td>173.80</td>\n",
       "      <td>969.73</td>\n",
       "    </tr>\n",
       "    <tr>\n",
       "      <th>4</th>\n",
       "      <td>60.37</td>\n",
       "      <td>134.31</td>\n",
       "    </tr>\n",
       "  </tbody>\n",
       "</table>\n",
       "</div>"
      ],
      "text/plain": [
       "   Kapasitas Terpasang (MW)  Tenaga Listrik yang Dibangkitkan (GWh)\n",
       "0                    232.10                                  618.26\n",
       "1                   4241.54                                18876.59\n",
       "2                     81.15                                  182.69\n",
       "3                    173.80                                  969.73\n",
       "4                     60.37                                  134.31"
      ]
     },
     "execution_count": 15,
     "metadata": {},
     "output_type": "execute_result"
    }
   ],
   "source": [
    "data1 = data[['Kapasitas Terpasang (MW)', 'Tenaga Listrik yang Dibangkitkan (GWh)']]\n",
    "data1.head()"
   ]
  },
  {
   "cell_type": "code",
   "execution_count": 13,
   "metadata": {},
   "outputs": [
    {
     "data": {
      "image/png": "[encoded data removed]",
      "text/plain": [
       "<Figure size 432x288 with 1 Axes>"
      ]
     },
     "metadata": {
      "needs_background": "light"
     },
     "output_type": "display_data"
    }
   ],
   "source": [
    "import matplotlib.pyplot as plt\n",
    "plt.scatter(data['Kapasitas Terpasang (MW)'], data['Tenaga Listrik yang Dibangkitkan (GWh)'])\n",
    "plt.xlabel('Kapasitas Terpasang (MW)')\n",
    "plt.ylabel('Tenaga Listrik yang Dibangkitkan (GWh)')\n",
    "plt.show()"
   ]
  },
  {
   "cell_type": "markdown",
   "metadata": {},
   "source": [
    "### 3. Statistik Deskriptif dari 2 Variabel yang Dipilih"
   ]
  },
  {
   "cell_type": "markdown",
   "metadata": {},
   "source": [
    "Sebelum melakukan analisis statistik deskriptif, dilihat terlebih dahulu apakah variabel tersebur memiliki outlier atau tidak dengan boxplot."
   ]
  },
  {
   "cell_type": "code",
   "execution_count": 16,
   "metadata": {},
   "outputs": [
    {
     "data": {
      "image/png": "[encoded data removed]",
      "text/plain": [
       "<Figure size 432x288 with 1 Axes>"
      ]
     },
     "metadata": {
      "needs_background": "light"
     },
     "output_type": "display_data"
    }
   ],
   "source": [
    "plt.boxplot(data1['Kapasitas Terpasang (MW)'])\n",
    "plt.show()"
   ]
  },
  {
   "cell_type": "markdown",
   "metadata": {},
   "source": [
    "Gambar di atas menunjukkan boxplot dari variabel Kapasitas Terpasang (MW) dan dari boxplot tersebut terlihat ada beberapa outlier."
   ]
  },
  {
   "cell_type": "code",
   "execution_count": 17,
   "metadata": {},
   "outputs": [
    {
     "data": {
      "image/png": "[encoded data removed]",
      "text/plain": [
       "<Figure size 432x288 with 1 Axes>"
      ]
     },
     "metadata": {
      "needs_background": "light"
     },
     "output_type": "display_data"
    }
   ],
   "source": [
    "plt.boxplot(data1['Tenaga Listrik yang Dibangkitkan (GWh)'])\n",
    "plt.show()"
   ]
  },
  {
   "cell_type": "markdown",
   "metadata": {},
   "source": [
    "Gambar di atas menunjukkan boxplot dari variabel Tenaga Listrik yang Dibangkitkan (GWh) dan dari boxplot tersebut terlihat ada beberapa outlier."
   ]
  },
  {
   "cell_type": "markdown",
   "metadata": {},
   "source": [
    "Kemudian dilakukan cleaning data untuk mengurangi nilai outliernya sebagai berikut."
   ]
  },
  {
   "cell_type": "code",
   "execution_count": 19,
   "metadata": {},
   "outputs": [],
   "source": [
    "import numpy as np\n",
    "\n",
    "rata1 = data1['Kapasitas Terpasang (MW)'].mean()\n",
    "std1 = data1['Kapasitas Terpasang (MW)'].std()\n",
    "rata2 = data1['Tenaga Listrik yang Dibangkitkan (GWh)'].mean()\n",
    "std2 = data1['Tenaga Listrik yang Dibangkitkan (GWh)'].std()\n",
    "\n",
    "dataClean = data1[(np.abs((data1['Kapasitas Terpasang (MW)']-rata1)/std1) <= 1) \n",
    "                 & (np.abs((data1['Tenaga Listrik yang Dibangkitkan (GWh)']-rata2)/std2) <= 1)]"
   ]
  },
  {
   "cell_type": "code",
   "execution_count": 21,
   "metadata": {},
   "outputs": [
    {
     "data": {
      "text/html": [
       "<div>\n",
       "<style scoped>\n",
       "    .dataframe tbody tr th:only-of-type {\n",
       "        vertical-align: middle;\n",
       "    }\n",
       "\n",
       "    .dataframe tbody tr th {\n",
       "        vertical-align: top;\n",
       "    }\n",
       "\n",
       "    .dataframe thead th {\n",
       "        text-align: right;\n",
       "    }\n",
       "</style>\n",
       "<table border=\"1\" class=\"dataframe\">\n",
       "  <thead>\n",
       "    <tr style=\"text-align: right;\">\n",
       "      <th></th>\n",
       "      <th>Kapasitas Terpasang (MW)</th>\n",
       "      <th>Tenaga Listrik yang Dibangkitkan (GWh)</th>\n",
       "    </tr>\n",
       "  </thead>\n",
       "  <tbody>\n",
       "    <tr>\n",
       "      <th>0</th>\n",
       "      <td>232.10</td>\n",
       "      <td>618.26</td>\n",
       "    </tr>\n",
       "    <tr>\n",
       "      <th>1</th>\n",
       "      <td>4241.54</td>\n",
       "      <td>18876.59</td>\n",
       "    </tr>\n",
       "    <tr>\n",
       "      <th>2</th>\n",
       "      <td>81.15</td>\n",
       "      <td>182.69</td>\n",
       "    </tr>\n",
       "    <tr>\n",
       "      <th>3</th>\n",
       "      <td>173.80</td>\n",
       "      <td>969.73</td>\n",
       "    </tr>\n",
       "    <tr>\n",
       "      <th>4</th>\n",
       "      <td>60.37</td>\n",
       "      <td>134.31</td>\n",
       "    </tr>\n",
       "  </tbody>\n",
       "</table>\n",
       "</div>"
      ],
      "text/plain": [
       "   Kapasitas Terpasang (MW)  Tenaga Listrik yang Dibangkitkan (GWh)\n",
       "0                    232.10                                  618.26\n",
       "1                   4241.54                                18876.59\n",
       "2                     81.15                                  182.69\n",
       "3                    173.80                                  969.73\n",
       "4                     60.37                                  134.31"
      ]
     },
     "execution_count": 21,
     "metadata": {},
     "output_type": "execute_result"
    }
   ],
   "source": [
    "dataClean.head()"
   ]
  },
  {
   "cell_type": "code",
   "execution_count": 22,
   "metadata": {},
   "outputs": [
    {
     "data": {
      "image/png": "[encoded data removed]",
      "text/plain": [
       "<Figure size 432x288 with 1 Axes>"
      ]
     },
     "metadata": {
      "needs_background": "light"
     },
     "output_type": "display_data"
    }
   ],
   "source": [
    "plt.scatter(dataClean['Kapasitas Terpasang (MW)'], dataClean['Tenaga Listrik yang Dibangkitkan (GWh)'])\n",
    "plt.xlabel('Kapasitas Terpasang (MW)')\n",
    "plt.ylabel('Tenaga Listrik yang Dibangkitkan (GWh)')\n",
    "plt.show()"
   ]
  },
  {
   "cell_type": "markdown",
   "metadata": {},
   "source": [
    "Gambar di atas menunjukkan scatter plot 2 variabel yang dipilih sudah dilakukan cleaning data. Kemudian dilakukan analisis statistik deskriptif dari 2 variabel tersebut sebagai berikut."
   ]
  },
  {
   "cell_type": "code",
   "execution_count": 23,
   "metadata": {},
   "outputs": [
    {
     "data": {
      "text/html": [
       "<div>\n",
       "<style scoped>\n",
       "    .dataframe tbody tr th:only-of-type {\n",
       "        vertical-align: middle;\n",
       "    }\n",
       "\n",
       "    .dataframe tbody tr th {\n",
       "        vertical-align: top;\n",
       "    }\n",
       "\n",
       "    .dataframe thead th {\n",
       "        text-align: right;\n",
       "    }\n",
       "</style>\n",
       "<table border=\"1\" class=\"dataframe\">\n",
       "  <thead>\n",
       "    <tr style=\"text-align: right;\">\n",
       "      <th></th>\n",
       "      <th>Kapasitas Terpasang (MW)</th>\n",
       "      <th>Tenaga Listrik yang Dibangkitkan (GWh)</th>\n",
       "    </tr>\n",
       "  </thead>\n",
       "  <tbody>\n",
       "    <tr>\n",
       "      <th>count</th>\n",
       "      <td>31.000000</td>\n",
       "      <td>31.000000</td>\n",
       "    </tr>\n",
       "    <tr>\n",
       "      <th>mean</th>\n",
       "      <td>732.150645</td>\n",
       "      <td>2940.508387</td>\n",
       "    </tr>\n",
       "    <tr>\n",
       "      <th>std</th>\n",
       "      <td>1127.120369</td>\n",
       "      <td>5414.194949</td>\n",
       "    </tr>\n",
       "    <tr>\n",
       "      <th>min</th>\n",
       "      <td>0.180000</td>\n",
       "      <td>0.000000</td>\n",
       "    </tr>\n",
       "    <tr>\n",
       "      <th>25%</th>\n",
       "      <td>90.485000</td>\n",
       "      <td>236.905000</td>\n",
       "    </tr>\n",
       "    <tr>\n",
       "      <th>50%</th>\n",
       "      <td>271.140000</td>\n",
       "      <td>917.480000</td>\n",
       "    </tr>\n",
       "    <tr>\n",
       "      <th>75%</th>\n",
       "      <td>876.995000</td>\n",
       "      <td>2395.445000</td>\n",
       "    </tr>\n",
       "    <tr>\n",
       "      <th>max</th>\n",
       "      <td>4241.540000</td>\n",
       "      <td>20617.920000</td>\n",
       "    </tr>\n",
       "  </tbody>\n",
       "</table>\n",
       "</div>"
      ],
      "text/plain": [
       "       Kapasitas Terpasang (MW)  Tenaga Listrik yang Dibangkitkan (GWh)\n",
       "count                 31.000000                               31.000000\n",
       "mean                 732.150645                             2940.508387\n",
       "std                 1127.120369                             5414.194949\n",
       "min                    0.180000                                0.000000\n",
       "25%                   90.485000                              236.905000\n",
       "50%                  271.140000                              917.480000\n",
       "75%                  876.995000                             2395.445000\n",
       "max                 4241.540000                            20617.920000"
      ]
     },
     "execution_count": 23,
     "metadata": {},
     "output_type": "execute_result"
    }
   ],
   "source": [
    "dataClean.describe()"
   ]
  },
  {
   "cell_type": "markdown",
   "metadata": {},
   "source": [
    "Berdasarkan deskripsi data di atas diperoleh jumlah datanya adalah 31 data, rata-rata kapasitas terpasang (MW) 732.150645 MW dan rata-rata tenaga listrik yang dibangkitkan (GWh) 2940.508387 GWh. Standar deviasi kapasitas terpasang (MW) dan tenaga listrik yang dibangkitkan (GWh) masing-masing adalah 1127.120369\t dan 2940.508387. Kapasitas terpasang (MW) minimalnya adalah 0.180000 MW dan kapasitas terpasang (MW) maksimalnya adalah 4241.540000 MW. Tenaga listrik yang dibangkitkan (GWh) minimalnya adalah 0.000000 GWh dan tenaga listrik yang dibangkitkan (GWh) maksimalnya adalah 20617.920000 GWh. Pada data kapasitas terpasang (MW) kuartil pertamanya adalah 90.485000 MW, kuartil kedua (Median) adalah 271.140000 MW, dan kuartil ketiga adalah 876.995000 MW. Pada data tenaga listrik yang dibangkitkan (GWh) kuartil pertamanya adalah 236.905000 GWh, kuartil kedua (Median) adalah 917.480000 GWh, dan kuartil ketiga adalah 2395.445000 GWh."
   ]
  },
  {
   "cell_type": "markdown",
   "metadata": {},
   "source": [
    "### 4. Analisis Model Regresi dan Tingkat Keakuratannya"
   ]
  },
  {
   "cell_type": "markdown",
   "metadata": {},
   "source": [
    "Berdasarkan no. 2, scatter plot mempunyai pola menyerupai garis lurus atau linear sehingga analisis model regresi yang digunakan adalah model regresi linear. Pertama, dilakukan pembagian data yaitu 0.8 bagian untuk perhitungan model regresi dan 0.2 bagian untuk menguji kecocokan model regresi tersebut."
   ]
  },
  {
   "cell_type": "code",
   "execution_count": 25,
   "metadata": {},
   "outputs": [],
   "source": [
    "import numpy as np\n",
    "msk = np.random.rand(len(dataClean))<0.8\n",
    "train = dataClean[msk]\n",
    "test = dataClean[~msk]"
   ]
  },
  {
   "cell_type": "markdown",
   "metadata": {},
   "source": [
    "Kemudian, dari pembagian data tersebut dilakukan analisis model regresi dengan menjadikan kapasitas terpasang (MW) sebagai variabel independen (X) dan tenaga listrik yang dibangkitkan (GWh) sebagai variabel dependen (Y) sebagai berikut."
   ]
  },
  {
   "cell_type": "code",
   "execution_count": 26,
   "metadata": {},
   "outputs": [
    {
     "name": "stdout",
     "output_type": "stream",
     "text": [
      "Coefficients:  [[4.77909182]]\n",
      "Intercept:  [-580.72791477]\n"
     ]
    }
   ],
   "source": [
    "from sklearn import linear_model\n",
    "regr = linear_model.LinearRegression()\n",
    "train_x = np.asanyarray(train[['Kapasitas Terpasang (MW)']])\n",
    "train_y = np.asanyarray(train[['Tenaga Listrik yang Dibangkitkan (GWh)']])\n",
    "y=regr.fit (train_x, train_y)\n",
    "# The coefficients\n",
    "print ('Coefficients: ', regr.coef_)\n",
    "print ('Intercept: ',regr.intercept_)"
   ]
  },
  {
   "cell_type": "markdown",
   "metadata": {},
   "source": [
    "Berdasarkan analisis model regresi di atas diperoleh model regresinya adalah Y = -580.72791477 + 4.77909182X, yang artinya setiap kenaikan satu satuan kapasitas terpasang (MW) akan menaikkan tenaga listrik yang dibangkitkan (GWh) sebesar 4.77909182. Selanjutnya dilakukan perhitungan keakuratan model regresi untuk mengetahui kecocokan modelnya sebagai berikut."
   ]
  },
  {
   "cell_type": "code",
   "execution_count": 42,
   "metadata": {},
   "outputs": [
    {
     "name": "stdout",
     "output_type": "stream",
     "text": [
      "Mean absolute error: 385.94\n",
      "Residual sum of squares (MSE): 252364.40\n",
      "R2-score: 1.00\n",
      "\n"
     ]
    },
    {
     "data": {
      "image/png": "[encoded data removed]",
      "text/plain": [
       "<Figure size 432x288 with 1 Axes>"
      ]
     },
     "metadata": {
      "needs_background": "light"
     },
     "output_type": "display_data"
    }
   ],
   "source": [
    "from sklearn.metrics import r2_score\n",
    "\n",
    "test_x = np.asanyarray(test[['Kapasitas Terpasang (MW)']])\n",
    "test_y = np.asanyarray(test[['Tenaga Listrik yang Dibangkitkan (GWh)']])\n",
    "test_y_ = regr.predict(test_x)\n",
    "\n",
    "print(\"Mean absolute error: %.2f\" % np.mean(np.absolute(test_y_ - test_y)))\n",
    "print(\"Residual sum of squares (MSE): %.2f\" % np.mean((test_y_ - test_y) ** 2))\n",
    "print(\"R2-score: %.2f\" % r2_score(test_y_ , test_y) )\n",
    "print('')\n",
    "plt.scatter(test_x, test_y)\n",
    "plt.plot(test_x, test_y_, c = 'r')\n",
    "plt.show()"
   ]
  },
  {
   "cell_type": "markdown",
   "metadata": {},
   "source": [
    "Berdasarkan hasil di atas diperoleh nilai R2-score-nya sebesar 1.00 yang artinya model regresi tersebut cocok untuk digunakan dan plot model regresinya membentuk garis linear di antara data."
   ]
  },
  {
   "cell_type": "markdown",
   "metadata": {},
   "source": [
    "### 5. Analisis Clustering Data"
   ]
  },
  {
   "cell_type": "markdown",
   "metadata": {},
   "source": [
    "Metode yang digunakan untuk analisis clustering data berikut adalah K-Means Cluster."
   ]
  },
  {
   "cell_type": "code",
   "execution_count": 28,
   "metadata": {},
   "outputs": [],
   "source": [
    "import random \n",
    "import numpy as np \n",
    "import matplotlib.pyplot as plt \n",
    "from sklearn.cluster import KMeans \n",
    "from sklearn.datasets.samples_generator import make_blobs \n",
    "%matplotlib inline"
   ]
  },
  {
   "cell_type": "code",
   "execution_count": 29,
   "metadata": {},
   "outputs": [
    {
     "name": "stderr",
     "output_type": "stream",
     "text": [
      "C:\\Users\\DELL\\Anaconda3\\lib\\site-packages\\sklearn\\utils\\validation.py:595: DataConversionWarning: Data with input dtype object was converted to float64 by StandardScaler.\n",
      "  warnings.warn(msg, DataConversionWarning)\n",
      "C:\\Users\\DELL\\Anaconda3\\lib\\site-packages\\sklearn\\utils\\validation.py:595: DataConversionWarning: Data with input dtype object was converted to float64 by StandardScaler.\n",
      "  warnings.warn(msg, DataConversionWarning)\n"
     ]
    },
    {
     "data": {
      "text/plain": [
       "array([[-0.42240701, -0.42404755, -0.35484593],\n",
       "       [ 0.78978174,  0.77945696,  0.24592748],\n",
       "       [-0.46804428, -0.4527583 , -0.26869152],\n",
       "       [-0.44003307, -0.40088027, -0.22095843],\n",
       "       [-0.47432678, -0.45594729, -0.44932399],\n",
       "       [ 0.45862659,  0.61828664, -0.11178555],\n",
       "       [-0.48475124, -0.45933797, -0.47651845],\n",
       "       [-0.45596001, -0.46212751, -0.22236807],\n",
       "       [-0.39747658, -0.40287883, -0.46957613],\n",
       "       [-0.26981921, -0.27820584, -0.30231188],\n",
       "       [-0.08154393, -0.24012126,  3.22256723],\n",
       "       [ 0.74030786,  0.89423736,  3.47281809],\n",
       "       [ 1.06603007,  1.22858317,  1.31382677],\n",
       "       [-0.49252424, -0.46480038, -0.32152939],\n",
       "       [ 3.94247505,  3.00399312,  2.26422038],\n",
       "       [ 3.39946561,  4.16767024,  0.23419699],\n",
       "       [-0.18504786, -0.33825606, -0.12901497],\n",
       "       [-0.37351966, -0.36210226, -0.42023634],\n",
       "       [-0.40270998, -0.4107366 , -0.47977291],\n",
       "       [-0.29500662, -0.31053733, -0.36664941],\n",
       "       [-0.47091645, -0.42810727, -0.45250364],\n",
       "       [ 0.01266022, -0.24634763, -0.34858334],\n",
       "       [-0.17421223, -0.30327016, -0.27379904],\n",
       "       [-0.46239971, -0.46015467, -0.52933897],\n",
       "       [-0.38433413, -0.33562208, -0.42933461],\n",
       "       [-0.3652599 , -0.3606396 , -0.46161469],\n",
       "       [-0.11999775, -0.07070098, -0.13948181],\n",
       "       [-0.45404019, -0.40901687, -0.48398538],\n",
       "       [-0.48305817, -0.4456111 , -0.51179204],\n",
       "       [-0.49160515, -0.46355458, -0.52457634],\n",
       "       [-0.42099814, -0.41329543, -0.50169289],\n",
       "       [-0.47026341, -0.4535717 , -0.51812215],\n",
       "       [-0.45848752, -0.43527359, -0.50661336],\n",
       "       [-0.41060391, -0.40432435, -0.47853572]])"
      ]
     },
     "execution_count": 29,
     "metadata": {},
     "output_type": "execute_result"
    }
   ],
   "source": [
    "from sklearn.preprocessing import StandardScaler\n",
    "X = data.values[:,1:]\n",
    "X = np.nan_to_num(X)\n",
    "Clus_dataSet = StandardScaler().fit_transform(X)\n",
    "Clus_dataSet"
   ]
  },
  {
   "cell_type": "markdown",
   "metadata": {},
   "source": [
    "Menampilkan array data."
   ]
  },
  {
   "cell_type": "code",
   "execution_count": 37,
   "metadata": {},
   "outputs": [
    {
     "name": "stdout",
     "output_type": "stream",
     "text": [
      "[0 0 0 0 0 0 0 0 0 0 1 1 1 0 2 2 0 0 0 0 0 0 0 0 0 0 0 0 0 0 0 0 0 0]\n"
     ]
    }
   ],
   "source": [
    "clusterNum = 3\n",
    "k_means = KMeans(init = \"k-means++\", n_clusters = clusterNum, n_init = 12)\n",
    "k_means.fit(X)\n",
    "labels = k_means.labels_\n",
    "print(labels)"
   ]
  },
  {
   "cell_type": "markdown",
   "metadata": {},
   "source": [
    "Membentuk 3-means kluster untuk data."
   ]
  },
  {
   "cell_type": "code",
   "execution_count": 38,
   "metadata": {},
   "outputs": [
    {
     "data": {
      "text/html": [
       "<div>\n",
       "<style scoped>\n",
       "    .dataframe tbody tr th:only-of-type {\n",
       "        vertical-align: middle;\n",
       "    }\n",
       "\n",
       "    .dataframe tbody tr th {\n",
       "        vertical-align: top;\n",
       "    }\n",
       "\n",
       "    .dataframe thead th {\n",
       "        text-align: right;\n",
       "    }\n",
       "</style>\n",
       "<table border=\"1\" class=\"dataframe\">\n",
       "  <thead>\n",
       "    <tr style=\"text-align: right;\">\n",
       "      <th></th>\n",
       "      <th>Provinsi</th>\n",
       "      <th>Kapasitas Terpasang (MW)</th>\n",
       "      <th>Tenaga Listrik yang Dibangkitkan (GWh)</th>\n",
       "      <th>Listrik yang Didistribusikan (GWh)</th>\n",
       "      <th>Clus_km</th>\n",
       "    </tr>\n",
       "  </thead>\n",
       "  <tbody>\n",
       "    <tr>\n",
       "      <th>0</th>\n",
       "      <td>Aceh</td>\n",
       "      <td>232.10</td>\n",
       "      <td>618.26</td>\n",
       "      <td>2119.00</td>\n",
       "      <td>0</td>\n",
       "    </tr>\n",
       "    <tr>\n",
       "      <th>1</th>\n",
       "      <td>Sumatera Utara</td>\n",
       "      <td>4241.54</td>\n",
       "      <td>18876.59</td>\n",
       "      <td>8703.67</td>\n",
       "      <td>0</td>\n",
       "    </tr>\n",
       "    <tr>\n",
       "      <th>2</th>\n",
       "      <td>Sumatera Barat</td>\n",
       "      <td>81.15</td>\n",
       "      <td>182.69</td>\n",
       "      <td>3063.28</td>\n",
       "      <td>0</td>\n",
       "    </tr>\n",
       "    <tr>\n",
       "      <th>3</th>\n",
       "      <td>Riau</td>\n",
       "      <td>173.80</td>\n",
       "      <td>969.73</td>\n",
       "      <td>3586.45</td>\n",
       "      <td>0</td>\n",
       "    </tr>\n",
       "    <tr>\n",
       "      <th>4</th>\n",
       "      <td>Jambi</td>\n",
       "      <td>60.37</td>\n",
       "      <td>134.31</td>\n",
       "      <td>1083.49</td>\n",
       "      <td>0</td>\n",
       "    </tr>\n",
       "  </tbody>\n",
       "</table>\n",
       "</div>"
      ],
      "text/plain": [
       "         Provinsi  Kapasitas Terpasang (MW)  \\\n",
       "0            Aceh                    232.10   \n",
       "1  Sumatera Utara                   4241.54   \n",
       "2  Sumatera Barat                     81.15   \n",
       "3            Riau                    173.80   \n",
       "4           Jambi                     60.37   \n",
       "\n",
       "   Tenaga Listrik yang Dibangkitkan (GWh)  Listrik yang Didistribusikan (GWh)  \\\n",
       "0                                  618.26                             2119.00   \n",
       "1                                18876.59                             8703.67   \n",
       "2                                  182.69                             3063.28   \n",
       "3                                  969.73                             3586.45   \n",
       "4                                  134.31                             1083.49   \n",
       "\n",
       "   Clus_km  \n",
       "0        0  \n",
       "1        0  \n",
       "2        0  \n",
       "3        0  \n",
       "4        0  "
      ]
     },
     "execution_count": 38,
     "metadata": {},
     "output_type": "execute_result"
    }
   ],
   "source": [
    "data[\"Clus_km\"] = labels\n",
    "data.head()"
   ]
  },
  {
   "cell_type": "markdown",
   "metadata": {},
   "source": [
    "Menambahkan kolom label kluster."
   ]
  },
  {
   "cell_type": "code",
   "execution_count": 39,
   "metadata": {},
   "outputs": [
    {
     "data": {
      "text/html": [
       "<div>\n",
       "<style scoped>\n",
       "    .dataframe tbody tr th:only-of-type {\n",
       "        vertical-align: middle;\n",
       "    }\n",
       "\n",
       "    .dataframe tbody tr th {\n",
       "        vertical-align: top;\n",
       "    }\n",
       "\n",
       "    .dataframe thead th {\n",
       "        text-align: right;\n",
       "    }\n",
       "</style>\n",
       "<table border=\"1\" class=\"dataframe\">\n",
       "  <thead>\n",
       "    <tr style=\"text-align: right;\">\n",
       "      <th></th>\n",
       "      <th>Kapasitas Terpasang (MW)</th>\n",
       "      <th>Tenaga Listrik yang Dibangkitkan (GWh)</th>\n",
       "      <th>Listrik yang Didistribusikan (GWh)</th>\n",
       "    </tr>\n",
       "    <tr>\n",
       "      <th>Clus_km</th>\n",
       "      <th></th>\n",
       "      <th></th>\n",
       "      <th></th>\n",
       "    </tr>\n",
       "  </thead>\n",
       "  <tbody>\n",
       "    <tr>\n",
       "      <th>0</th>\n",
       "      <td>595.145862</td>\n",
       "      <td>2314.801379</td>\n",
       "      <td>2036.949655</td>\n",
       "    </tr>\n",
       "    <tr>\n",
       "      <th>1</th>\n",
       "      <td>3530.900000</td>\n",
       "      <td>16572.263333</td>\n",
       "      <td>35269.406667</td>\n",
       "    </tr>\n",
       "    <tr>\n",
       "      <th>2</th>\n",
       "      <td>13771.370000</td>\n",
       "      <td>61452.015000</td>\n",
       "      <td>19699.955000</td>\n",
       "    </tr>\n",
       "  </tbody>\n",
       "</table>\n",
       "</div>"
      ],
      "text/plain": [
       "         Kapasitas Terpasang (MW)  Tenaga Listrik yang Dibangkitkan (GWh)  \\\n",
       "Clus_km                                                                     \n",
       "0                      595.145862                             2314.801379   \n",
       "1                     3530.900000                            16572.263333   \n",
       "2                    13771.370000                            61452.015000   \n",
       "\n",
       "         Listrik yang Didistribusikan (GWh)  \n",
       "Clus_km                                      \n",
       "0                               2036.949655  \n",
       "1                              35269.406667  \n",
       "2                              19699.955000  "
      ]
     },
     "execution_count": 39,
     "metadata": {},
     "output_type": "execute_result"
    }
   ],
   "source": [
    "KMeansClusterCenter = data.groupby('Clus_km').mean()\n",
    "KMeansClusterCenter"
   ]
  },
  {
   "cell_type": "markdown",
   "metadata": {},
   "source": [
    "Menunjukkan rata-rata setiap kluster dari setiap variabel."
   ]
  },
  {
   "cell_type": "code",
   "execution_count": 40,
   "metadata": {},
   "outputs": [
    {
     "name": "stdout",
     "output_type": "stream",
     "text": [
      "0.8048330915695674\n"
     ]
    }
   ],
   "source": [
    "from sklearn.metrics import silhouette_score\n",
    "print(silhouette_score(X, k_means.labels_))"
   ]
  },
  {
   "cell_type": "markdown",
   "metadata": {},
   "source": [
    "Nilai sihouette sebesar 0.8048330915695674 menunjukkan bahwa data tersebut cocok untuk dibuat 3 kluster. "
   ]
  },
  {
   "cell_type": "code",
   "execution_count": 41,
   "metadata": {},
   "outputs": [
    {
     "data": {
      "image/png": "[encoded data removed]",
      "text/plain": [
       "<Figure size 432x288 with 1 Axes>"
      ]
     },
     "metadata": {
      "needs_background": "light"
     },
     "output_type": "display_data"
    }
   ],
   "source": [
    "plt.scatter(data['Kapasitas Terpasang (MW)'], data['Tenaga Listrik yang Dibangkitkan (GWh)'])\n",
    "plt.scatter(KMeansClusterCenter['Kapasitas Terpasang (MW)'], KMeansClusterCenter['Tenaga Listrik yang Dibangkitkan (GWh)'], marker = 'x', c = 'r')\n",
    "plt.show()"
   ]
  },
  {
   "cell_type": "markdown",
   "metadata": {},
   "source": [
    "Plot di atas menunjukkan letak dari k-means kluster pada data."
   ]
  },
  {
   "cell_type": "code",
   "execution_count": null,
   "metadata": {},
   "outputs": [],
   "source": []
  }
 ],
 "metadata": {
  "kernelspec": {
   "display_name": "Python 3",
   "language": "python",
   "name": "python3"
  },
  "language_info": {
   "codemirror_mode": {
    "name": "ipython",
    "version": 3
   },
   "file_extension": ".py",
   "mimetype": "text/x-python",
   "name": "python",
   "nbconvert_exporter": "python",
   "pygments_lexer": "ipython3",
   "version": "3.7.3"
  }
 },
 "nbformat": 4,
 "nbformat_minor": 2
}
